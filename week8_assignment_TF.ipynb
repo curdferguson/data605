{
 "cells": [
  {
   "cell_type": "markdown",
   "metadata": {},
   "source": [
    "### CUNY DATA 605\n",
    "#### Week 8 Assignment\n",
    "#### Tyler Frankenberg"
   ]
  },
  {
   "cell_type": "code",
   "execution_count": 1,
   "metadata": {},
   "outputs": [],
   "source": [
    "import numpy as np"
   ]
  },
  {
   "cell_type": "markdown",
   "metadata": {},
   "source": [
    "#### Exercise 11, p. 303\n",
    "\n",
    "**A company buys 100 lightbulbs, each of which has an exponential lifetime of\n",
    "1000 hours. What is the expected time for the first of these bulbs to burn\n",
    "out?**\n",
    "\n",
    "*By the exponential distribution, the expected value of the variable $X_1$ is equal to $\\frac{1}{\\lambda}$.  So in this case, the Expected Value is equal to $\\frac{1}{\\frac{1}{1000}}$ which equals $1000$.*"
   ]
  },
  {
   "cell_type": "code",
   "execution_count": 2,
   "metadata": {},
   "outputs": [
    {
     "name": "stdout",
     "output_type": "stream",
     "text": [
      "1000.0\n"
     ]
    }
   ],
   "source": [
    "lam = 1 / 1000\n",
    "E_X1 = 1 / lam\n",
    "\n",
    "print(E_X1)"
   ]
  },
  {
   "cell_type": "markdown",
   "metadata": {},
   "source": [
    "#### Exercise 14, p. 303\n",
    "\n",
    "**Assume that $X_1$ and $X_2$ are independent random variables, each having an exponential density with parameter $\\lambda$. Show that $Z = X_1 − X_2$ has density:**\n",
    "\n",
    "$$\n",
    "f_{Z} (z) = \\left(\\frac{1}{2}\\right)\\lambda e^{− \\lambda |z|}\n",
    "$$\n"
   ]
  },
  {
   "cell_type": "markdown",
   "metadata": {},
   "source": [
    "*Let's start with what we know about the sum $W$ of two independent, exponentially distributed random variables $X_1$ and $X_2$:*\n",
    "\n",
    "$$\\begin{align}\n",
    "f_W(w) &= \\int_{-\\infty}^{+\\infty} f_{X_1} (x_1) f_{X_2}(w - x_1) dx_1 \\\\\n",
    "\\end{align}\n",
    "$$\n",
    "\n",
    "*In the case of $X_1 - X_2$ then, we are essentially looking for the sum $Z$ of the random variables $X_1$ and $-(X_2)$, which we can derive from the proceeding formula by substituting $z$ for $w$ and $f_{-X_2}(z - x_1)$ for $f_{X_2}(z - x_1)$...*\n",
    "\n",
    "$$\\begin{align}\n",
    "f_Z(z) &= \\int_{-\\infty}^{+\\infty} f_{X_1} (x_1) f_{-X_2}(z - x1) dx_1 \\\\\n",
    "\\end{align}\n",
    "$$\n",
    "\n",
    "*Because we also know that the probability $P(-Y = -1)$ is equal to the probability $P(Y = 1)$, we can express $f_{-X_2}(z - x_1)$ as $f_{X_2}(x_1 - z)$, giving us:*\n",
    "\n",
    "$$\\begin{align}\n",
    "f_Z(z) &= \\int_{-\\infty}^{+\\infty} f_{X_1} (x_1) f_{X_2}(x_1 - z) dx_1 \\\\\n",
    "\\end{align}\n",
    "$$\n",
    "\n",
    "*When $z < 0$...*\n",
    "\n",
    "$$\\begin{align}\n",
    "f_Z(z) &= \\int_{0}^{\\infty} \\lambda e^{-\\lambda x_1} \\lambda e^{-\\lambda (x_1 - z)} dx_1 \\\\ \n",
    "&= \\lambda e^{\\lambda z} \\int_{0}^{\\infty} \\lambda e^{-2 \\lambda x_1}  dx_1 \\\\ \n",
    "&= \\lambda e^{\\lambda z} \\left(\\left.-\\frac{1}{2} e^{-2 \\lambda x_1}\\right\\vert_0^\\infty\\right) \\\\ \n",
    "&= \\left(\\frac{1}{2}\\right)\\lambda e^{\\lambda z}, z < 0\n",
    "\\end{align}\n",
    "$$\n",
    "\n",
    "*Because $X_1$ and $X_2$ are both independent and identically distributed, $Z = X_1 - X_2$ and $-Z = X_2 - X_1$ are also identically distributed.  Therefore, the distribution of $Z$ is symmetric around zero and $f_Z(z) = f_Z(-z)$.  This means that if, as we have just shown...*\n",
    "\n",
    "$$\\begin{align}\n",
    "f_Z(z) &= \\left(\\frac{1}{2}\\right)\\lambda e^{\\lambda z}, z < 0 \\\\\n",
    "\\end{align}\n",
    "$$\n",
    "\n",
    "*...then...*\n",
    "\n",
    "$$\\begin{align}\n",
    "f_Z(z) &= \\left(\\frac{1}{2}\\right)\\lambda e^{- \\lambda z}, z \\geq 0 \\\\\n",
    "\\end{align}\n",
    "$$\n",
    "\n",
    "*And therefore, we can generalize the two equations over all values of $z$ by writing:*\n",
    "\n",
    "$$\n",
    "f_{Z} (z) = \\left(\\frac{1}{2}\\right)\\lambda e^{− \\lambda |z|}\n",
    "$$\n",
    "\n"
   ]
  },
  {
   "cell_type": "markdown",
   "metadata": {},
   "source": [
    "#### Exercise 1, p. 320-321\n",
    "\n",
    "**Let $X$ be a continuous random variable with mean $\\mu = 10$ and variance $\\sigma^2 = 100/3$. Using Chebyshev’s Inequality, find an upper bound for the following probabilities:**\n",
    "\n",
    "**(a) $P(|X-10| ≥ 2)$.**"
   ]
  },
  {
   "cell_type": "code",
   "execution_count": 3,
   "metadata": {},
   "outputs": [
    {
     "name": "stdout",
     "output_type": "stream",
     "text": [
      "The uppper bound is 277.77777777777777\n"
     ]
    }
   ],
   "source": [
    "mu = 10\n",
    "sigma = 100/3\n",
    "eps_a = 2\n",
    "k_a = eps_a / sigma\n",
    "\n",
    "ub_a = 1 / (k_a**2)\n",
    "print(\"The uppper bound is \" + str(ub_a))"
   ]
  },
  {
   "cell_type": "markdown",
   "metadata": {},
   "source": [
    "**(b) $P(|X-10| ≥ 5)$.**\n",
    "\n"
   ]
  },
  {
   "cell_type": "code",
   "execution_count": 4,
   "metadata": {},
   "outputs": [
    {
     "name": "stdout",
     "output_type": "stream",
     "text": [
      "The uppper bound is 44.44444444444444\n"
     ]
    }
   ],
   "source": [
    "eps_b = 5\n",
    "k_b = eps_b / sigma\n",
    "\n",
    "ub_b = 1 / (k_b**2)\n",
    "print(\"The uppper bound is \" + str(ub_b))"
   ]
  },
  {
   "cell_type": "markdown",
   "metadata": {},
   "source": [
    "**(c) $P(|X-10| ≥ 9)$.**"
   ]
  },
  {
   "cell_type": "code",
   "execution_count": 5,
   "metadata": {},
   "outputs": [
    {
     "name": "stdout",
     "output_type": "stream",
     "text": [
      "The uppper bound is 13.717421124828537\n"
     ]
    }
   ],
   "source": [
    "eps_c = 9\n",
    "k_c = eps_c / sigma\n",
    "\n",
    "ub_c = 1 / (k_c**2)\n",
    "print(\"The uppper bound is \" + str(ub_c))"
   ]
  },
  {
   "cell_type": "markdown",
   "metadata": {},
   "source": [
    "**(d) $P(|X-10| ≥ 20)$.**"
   ]
  },
  {
   "cell_type": "code",
   "execution_count": 6,
   "metadata": {},
   "outputs": [
    {
     "name": "stdout",
     "output_type": "stream",
     "text": [
      "The uppper bound is 2.7777777777777777\n"
     ]
    }
   ],
   "source": [
    "eps_d = 20\n",
    "k_d = eps_d / sigma\n",
    "\n",
    "ub_d = 1 / (k_d**2)\n",
    "print(\"The uppper bound is \" + str(ub_d))"
   ]
  }
 ],
 "metadata": {
  "interpreter": {
   "hash": "27fd3d2ebfd3aa047e8646eb3b4b4f61f0a5e615e804db4bae7fe8c81cbfffd7"
  },
  "kernelspec": {
   "display_name": "Python 3.8.8 64-bit ('cuny605': conda)",
   "name": "python3"
  },
  "language_info": {
   "codemirror_mode": {
    "name": "ipython",
    "version": 3
   },
   "file_extension": ".py",
   "mimetype": "text/x-python",
   "name": "python",
   "nbconvert_exporter": "python",
   "pygments_lexer": "ipython3",
   "version": "3.8.8"
  },
  "orig_nbformat": 4
 },
 "nbformat": 4,
 "nbformat_minor": 2
}
