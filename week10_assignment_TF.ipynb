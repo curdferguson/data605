{
 "cells": [
  {
   "cell_type": "markdown",
   "metadata": {},
   "source": [
    "### CUNY DATA 605\n",
    "#### Wk 10 Assignment\n",
    "#### Tyler Frankenberg"
   ]
  },
  {
   "cell_type": "markdown",
   "metadata": {},
   "source": [
    "Smith is in jail and has 1 dollar; he can get out on bail if he has 8 dollars. A guard agrees to make a series of bets with him. If Smith bets A dollars, he wins A dollars with probability .4 and loses A dollars with probability .6.  Find the probability that he wins 8 dollars before losing all of his money if:\n",
    "\n",
    "(a) he bets 1 dollar each time (timid strategy):"
   ]
  },
  {
   "cell_type": "markdown",
   "metadata": {},
   "source": [
    "*We'll define a function `game_timid` to simulate the game of chance following the timid strategy.  This game is a like a coin flip weighted 3:2 in favor of the guard, so we can model it as a binomial with parameter `p` identifying the probability of success for the prisoner.  We'll use `np.random.binomial()` with parameters `n = 1` and `p = 0.4` to model each flip of this weighted coin, and a `while` loop that breaks when the prisoner's cash on hand is either* $\\$0.00$ *, meaning they can no longer play, or $\\$8.00$, meaning they can afford bail.*\n",
    "\n",
    "*We'll then define a class `sims_timid()` which allows us to store a list of outcomes for a number of `game_timid` calls specified by passing a value `num`, plus a parameter `p` which is just the probability passed to each `game_timid`.  This class includes methods to return lists of `win` and `loss` outcomes, as well as a method to return `win_pct`, i.e. the proportion of trials in which the prisoner wins the game and makes bail.*\n",
    "\n",
    "The following sources were consulted in defining these methods:   \n",
    "https://numpy.org/doc/stable/reference/random/generated/numpy.random.Generator.binomial.html#numpy.random.Generator.binomial  \n",
    "https://www.youtube.com/watch?v=D2yx2xzjvzc"
   ]
  },
  {
   "cell_type": "code",
   "execution_count": 201,
   "metadata": {},
   "outputs": [],
   "source": [
    "import numpy as np\n",
    "from matplotlib import pyplot as plt"
   ]
  },
  {
   "cell_type": "code",
   "execution_count": 213,
   "metadata": {},
   "outputs": [],
   "source": [
    "def game_timid(prob):\n",
    "    count, money = 0, 1\n",
    "    while money:\n",
    "        rng = np.random.default_rng()\n",
    "        n, p = 1, prob  # number of trials, probability of each trial\n",
    "        flip = rng.binomial(n, p)\n",
    "        if flip == 0:\n",
    "            money -= 1\n",
    "        if  flip == 1:\n",
    "            money += 1\n",
    "        count += 1\n",
    "        if money >= 8:\n",
    "            break\n",
    "    return count, money\n",
    "\n",
    "class sims_timid():\n",
    "    def __init__(self, num, prob):\n",
    "        self.sims_list = [game_timid(prob) for x in range(num)]\n",
    "\n",
    "    def win_counts(self):\n",
    "        sims_list = self.sims_list\n",
    "        win_counts = []\n",
    "        for count, money in sims_list:\n",
    "            if money >= 8:\n",
    "                win_counts.append(count)\n",
    "        return win_counts\n",
    "\n",
    "    def loss_counts(self):\n",
    "        sims_list = self.sims_list\n",
    "        loss_counts = []\n",
    "        for count, money in sims_list:\n",
    "            if money == 0:\n",
    "                loss_counts.append(count)\n",
    "        return loss_counts\n",
    "\n",
    "    def win_pct(self):\n",
    "        sims_list = self.sims_list\n",
    "        wins, losses = 0, 0\n",
    "        for count, money in sims_list:\n",
    "            if money == 0:\n",
    "                losses += 1\n",
    "            if money == 8:\n",
    "                wins += 1      \n",
    "        return wins / (wins + losses) \n"
   ]
  },
  {
   "cell_type": "markdown",
   "metadata": {},
   "source": [
    "*We can now use our `sims_timid()` class to run the simulation a large number of times - in this case, we'll run it 1000 times - and generate a probability of success for the prisoner.  As we can see below, the timid strategy offers the prisoner not much in the way of hope:*"
   ]
  },
  {
   "cell_type": "code",
   "execution_count": 216,
   "metadata": {},
   "outputs": [
    {
     "name": "stdout",
     "output_type": "stream",
     "text": [
      "win prob: 0.016\n",
      "wins: 16\n",
      "losses: 984\n"
     ]
    }
   ],
   "source": [
    "sim_timid = sims_timid(1000, 0.4)\n",
    "win_count = sim_timid.win_counts()\n",
    "loss_count = sim_timid.loss_counts()\n",
    "\n",
    "print(\"win prob: \" + str(np.round(sim_timid.win_pct(), 5)))\n",
    "print(\"wins: \" + str(len(win_count)))\n",
    "print(\"losses: \" + str(len(loss_count)))"
   ]
  },
  {
   "cell_type": "markdown",
   "metadata": {},
   "source": [
    "(b) he bets, each time, as much as possible but not more than necessary to bring his fortune up to 8 dollars (bold strategy):\n",
    "  \n",
    "*Here we create a `game_bold` function and a `sims_bold()` class which do the same simulation as above, but emulate the bold strategy in which the prisoner bets as much as they can each time:*"
   ]
  },
  {
   "cell_type": "code",
   "execution_count": 215,
   "metadata": {},
   "outputs": [],
   "source": [
    "def game_bold(prob):\n",
    "    count, money = 0, 1\n",
    "    while money:\n",
    "        rng = np.random.default_rng()\n",
    "        n, p = 1, prob  # number of trials, probability of each trial\n",
    "        flip = rng.binomial(n, p)\n",
    "        if flip == 0:\n",
    "            money -= min(money, (8 - money))\n",
    "        if  flip == 1:\n",
    "            money += min(money, (8 - money))\n",
    "        count += 1\n",
    "        if money >= 8:\n",
    "            break\n",
    "    return count, money\n",
    "\n",
    "class sims_bold():\n",
    "    def __init__(self, num, prob):\n",
    "        self.sims_list = [game_bold(prob) for x in range(num)]\n",
    "\n",
    "    def win_counts(self):\n",
    "        sims_list = self.sims_list\n",
    "        win_counts = []\n",
    "        for count, money in sims_list:\n",
    "            if money >= 8:\n",
    "                win_counts.append(count)\n",
    "        return win_counts\n",
    "\n",
    "    def loss_counts(self):\n",
    "        sims_list = self.sims_list\n",
    "        loss_counts = []\n",
    "        for count, money in sims_list:\n",
    "            if money == 0:\n",
    "                loss_counts.append(count)\n",
    "        return loss_counts\n",
    "\n",
    "    def win_pct(self):\n",
    "        sims_list = self.sims_list\n",
    "        wins, losses = 0, 0\n",
    "        for count, money in sims_list:\n",
    "            if money == 0:\n",
    "                losses += 1\n",
    "            if money >= 8:\n",
    "                wins += 1      \n",
    "        return wins / (wins + losses) "
   ]
  },
  {
   "cell_type": "markdown",
   "metadata": {},
   "source": [
    "...and we can see that the prisoner's probability of a win based on 1000 simulations is somewhat higher than when utilizing the timid strategy:"
   ]
  },
  {
   "cell_type": "code",
   "execution_count": 217,
   "metadata": {},
   "outputs": [
    {
     "name": "stdout",
     "output_type": "stream",
     "text": [
      "win prob: 0.0644\n",
      "wins: 644\n",
      "losses: 9356\n"
     ]
    }
   ],
   "source": [
    "sim_bold = sims_bold(10000, 0.4)\n",
    "win_count = sim_bold.win_counts()\n",
    "loss_count = sim_bold.loss_counts()\n",
    "\n",
    "print(\"win prob: \" + str(np.round(sim_bold.win_pct(), 5)))\n",
    "print(\"wins: \" + str(len(win_count)))\n",
    "print(\"losses: \" + str(len(loss_count)))"
   ]
  },
  {
   "cell_type": "markdown",
   "metadata": {},
   "source": []
  },
  {
   "cell_type": "markdown",
   "metadata": {},
   "source": [
    "(c) Which strategy gives Smith the better chance of getting out of jail\n",
    "\n",
    "*To answer this question, we can reproduce the experiments conducted above a large number of times and consider the distribution of win probabilities.  To do this, we're simply going to repeat our 1000 - game experiment for each strategy 200 times, and store the win probabilities obtained from each experiment in a 'list of lists'.  We can then view the outcome of these experiments side-by-side:*"
   ]
  },
  {
   "cell_type": "code",
   "execution_count": 224,
   "metadata": {},
   "outputs": [],
   "source": [
    "list_of_lists_timid = [sims_timid(1000, 0.4).win_pct() for x in range(200)]\n",
    "list_of_lists_bold = [sims_bold(1000, 0.4).win_pct() for x in range(200)]"
   ]
  },
  {
   "cell_type": "code",
   "execution_count": null,
   "metadata": {},
   "outputs": [
    {
     "data": {
      "image/png": "[encoded data removed]",
      "text/plain": [
       "<Figure size 432x288 with 1 Axes>"
      ]
     },
     "metadata": {
      "needs_background": "light"
     },
     "output_type": "display_data"
    }
   ],
   "source": [
    "plt.plot(figsize=(10, 10))\n",
    "\n",
    "plt.hist(list_of_lists_timid, bins=20, color='orange', alpha = 0.75, label='timid')\n",
    "plt.hist(list_of_lists_bold, bins=20, color='blue', alpha = 0.75, label='bold')\n",
    "\n",
    "plt.legend()\n",
    "plt.show()"
   ]
  },
  {
   "cell_type": "markdown",
   "metadata": {},
   "source": [
    "*We see that the bold strategy is the clear cut winner for the prisoner, as its entire distribution lays to the right of the entire timid distribution.  That said, it only buys the prisoner a couple of additional percentage points in win probability; he is still over 90% likely to lose his dollar and stay in jail.*"
   ]
  },
  {
   "cell_type": "markdown",
   "metadata": {},
   "source": []
  }
 ],
 "metadata": {
  "interpreter": {
   "hash": "27fd3d2ebfd3aa047e8646eb3b4b4f61f0a5e615e804db4bae7fe8c81cbfffd7"
  },
  "kernelspec": {
   "display_name": "Python 3.8.8 64-bit ('cuny605': conda)",
   "name": "python3"
  },
  "language_info": {
   "codemirror_mode": {
    "name": "ipython",
    "version": 3
   },
   "file_extension": ".py",
   "mimetype": "text/x-python",
   "name": "python",
   "nbconvert_exporter": "python",
   "pygments_lexer": "ipython3",
   "version": "3.8.8"
  },
  "orig_nbformat": 4
 },
 "nbformat": 4,
 "nbformat_minor": 2
}
